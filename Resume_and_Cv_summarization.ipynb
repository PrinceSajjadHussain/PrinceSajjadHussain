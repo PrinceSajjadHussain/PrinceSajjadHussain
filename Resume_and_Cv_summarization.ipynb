{
  "nbformat": 4,
  "nbformat_minor": 0,
  "metadata": {
    "colab": {
      "name": "Resume and Cv summarization.ipynb",
      "provenance": [],
      "mount_file_id": "1ugKehZP3E0O15KUnkGNcGwcuccAPpq_1",
      "authorship_tag": "ABX9TyP2BaIcnEqngsU7MgTis4Kf",
      "include_colab_link": true
    },
    "kernelspec": {
      "name": "python3",
      "display_name": "Python 3"
    },
    "language_info": {
      "name": "python"
    }
  },
  "cells": [
    {
      "cell_type": "markdown",
      "metadata": {
        "id": "view-in-github",
        "colab_type": "text"
      },
      "source": [
        "<a href=\"https://colab.research.google.com/github/PrinceSajjadHussain/PrinceSajjadHussain/blob/main/Resume_and_Cv_summarization.ipynb\" target=\"_parent\"><img src=\"https://colab.research.google.com/assets/colab-badge.svg\" alt=\"Open In Colab\"/></a>"
      ]
    },
    {
      "cell_type": "code",
      "metadata": {
        "id": "zWgJzSApbINj"
      },
      "source": [
        "import spacy\n",
        "import pickle \n",
        "import random\n"
      ],
      "execution_count": 2,
      "outputs": []
    },
    {
      "cell_type": "code",
      "metadata": {
        "id": "NS57vX5jcgjW"
      },
      "source": [
        "train_data = pickle.load(open('train_data.pkl', 'rb'))"
      ],
      "execution_count": 7,
      "outputs": []
    },
    {
      "cell_type": "code",
      "metadata": {
        "colab": {
          "base_uri": "https://localhost:8080/"
        },
        "id": "w1pKFiUDcr5A",
        "outputId": "b8939e6b-1640-4664-ed52-02b2a0f6bfae"
      },
      "source": [
        "train_data[0]"
      ],
      "execution_count": 8,
      "outputs": [
        {
          "output_type": "execute_result",
          "data": {
            "text/plain": [
              "('Govardhana K Senior Software Engineer  Bengaluru, Karnataka, Karnataka - Email me on Indeed: indeed.com/r/Govardhana-K/ b2de315d95905b68  Total IT experience 5 Years 6 Months Cloud Lending Solutions INC 4 Month • Salesforce Developer Oracle 5 Years 2 Month • Core Java Developer Languages Core Java, Go Lang Oracle PL-SQL programming, Sales Force Developer with APEX.  Designations & Promotions  Willing to relocate: Anywhere  WORK EXPERIENCE  Senior Software Engineer  Cloud Lending Solutions -  Bangalore, Karnataka -  January 2018 to Present  Present  Senior Consultant  Oracle -  Bangalore, Karnataka -  November 2016 to December 2017  Staff Consultant  Oracle -  Bangalore, Karnataka -  January 2014 to October 2016  Associate Consultant  Oracle -  Bangalore, Karnataka -  November 2012 to December 2013  EDUCATION  B.E in Computer Science Engineering  Adithya Institute of Technology -  Tamil Nadu  September 2008 to June 2012  https://www.indeed.com/r/Govardhana-K/b2de315d95905b68?isid=rex-download&ikw=download-top&co=IN https://www.indeed.com/r/Govardhana-K/b2de315d95905b68?isid=rex-download&ikw=download-top&co=IN   SKILLS  APEX. (Less than 1 year), Data Structures (3 years), FLEXCUBE (5 years), Oracle (5 years), Algorithms (3 years)  LINKS  https://www.linkedin.com/in/govardhana-k-61024944/  ADDITIONAL INFORMATION  Technical Proficiency:  Languages: Core Java, Go Lang, Data Structures & Algorithms, Oracle PL-SQL programming, Sales Force with APEX. Tools: RADTool, Jdeveloper, NetBeans, Eclipse, SQL developer, PL/SQL Developer, WinSCP, Putty Web Technologies: JavaScript, XML, HTML, Webservice  Operating Systems: Linux, Windows Version control system SVN & Git-Hub Databases: Oracle Middleware: Web logic, OC4J Product FLEXCUBE: Oracle FLEXCUBE Versions 10.x, 11.x and 12.x  https://www.linkedin.com/in/govardhana-k-61024944/',\n",
              " {'entities': [(1749, 1755, 'Companies worked at'),\n",
              "   (1696, 1702, 'Companies worked at'),\n",
              "   (1417, 1423, 'Companies worked at'),\n",
              "   (1356, 1793, 'Skills'),\n",
              "   (1209, 1215, 'Companies worked at'),\n",
              "   (1136, 1248, 'Skills'),\n",
              "   (928, 932, 'Graduation Year'),\n",
              "   (858, 889, 'College Name'),\n",
              "   (821, 856, 'Degree'),\n",
              "   (787, 791, 'Graduation Year'),\n",
              "   (744, 750, 'Companies worked at'),\n",
              "   (722, 742, 'Designation'),\n",
              "   (658, 664, 'Companies worked at'),\n",
              "   (640, 656, 'Designation'),\n",
              "   (574, 580, 'Companies worked at'),\n",
              "   (555, 573, 'Designation'),\n",
              "   (470, 493, 'Companies worked at'),\n",
              "   (444, 469, 'Designation'),\n",
              "   (308, 314, 'Companies worked at'),\n",
              "   (234, 240, 'Companies worked at'),\n",
              "   (175, 198, 'Companies worked at'),\n",
              "   (93, 137, 'Email Address'),\n",
              "   (39, 48, 'Location'),\n",
              "   (13, 38, 'Designation'),\n",
              "   (0, 12, 'Name')]})"
            ]
          },
          "metadata": {
            "tags": []
          },
          "execution_count": 8
        }
      ]
    },
    {
      "cell_type": "code",
      "metadata": {
        "id": "BDGu-9fcdlzc"
      },
      "source": [
        "nlp = spacy.blank('en')\n",
        "\n",
        "def train_model(train_data):\n",
        "    if 'ner' not in nlp.pipe_names:\n",
        "        ner = nlp.create_pipe('ner')\n",
        "        nlp.add_pipe(ner, last = True)\n",
        "    \n",
        "    for _, annotation in train_data:\n",
        "        for ent in annotation['entities']:\n",
        "            ner.add_label(ent[2])\n",
        "            \n",
        "    \n",
        "    other_pipes = [pipe for pipe in nlp.pipe_names if pipe != 'ner']\n",
        "    with nlp.disable_pipes(*other_pipes):  # only train NER\n",
        "        optimizer = nlp.begin_training()\n",
        "        for itn in range(10):\n",
        "            print(\"Statring iteration \" + str(itn))\n",
        "            random.shuffle(train_data)\n",
        "            losses = {}\n",
        "            index = 0\n",
        "            for text, annotations in train_data:\n",
        "                try:\n",
        "                    nlp.update(\n",
        "                        [text],  # batch of texts\n",
        "                        [annotations],  # batch of annotations\n",
        "                        drop=0.2,  # dropout - make it harder to memorise data\n",
        "                        sgd=optimizer,  # callable to update weights\n",
        "                        losses=losses)\n",
        "                except Exception as e:\n",
        "                    pass\n",
        "                \n",
        "            print(losses)"
      ],
      "execution_count": 16,
      "outputs": []
    },
    {
      "cell_type": "code",
      "metadata": {
        "colab": {
          "base_uri": "https://localhost:8080/"
        },
        "id": "cRqCjwJgdx1Z",
        "outputId": "e691c055-699c-4c83-aff4-0ab753ded90d"
      },
      "source": [
        "train_model(train_data)"
      ],
      "execution_count": 17,
      "outputs": [
        {
          "output_type": "stream",
          "text": [
            "Statring iteration 0\n",
            "{'ner': 14275.978094855822}\n",
            "Statring iteration 1\n",
            "{'ner': 9372.971020881985}\n",
            "Statring iteration 2\n",
            "{'ner': 8475.313149522304}\n",
            "Statring iteration 3\n",
            "{'ner': 8513.516479078331}\n",
            "Statring iteration 4\n",
            "{'ner': 6051.530032913811}\n",
            "Statring iteration 5\n",
            "{'ner': 5504.154339948844}\n",
            "Statring iteration 6\n",
            "{'ner': 7611.414869910622}\n",
            "Statring iteration 7\n",
            "{'ner': 5222.9704614187485}\n",
            "Statring iteration 8\n",
            "{'ner': 4799.060239822524}\n",
            "Statring iteration 9\n",
            "{'ner': 5084.825847392331}\n"
          ],
          "name": "stdout"
        }
      ]
    },
    {
      "cell_type": "code",
      "metadata": {
        "id": "ipQVN5AVfwZ0"
      },
      "source": [
        "doc =nl[nlp.to_disk('nlp_model')"
      ],
      "execution_count": 18,
      "outputs": []
    },
    {
      "cell_type": "code",
      "metadata": {
        "id": "-q_yMFEghB7s"
      },
      "source": [
        "nlp_model =spacy.load('nlp_model')"
      ],
      "execution_count": 19,
      "outputs": []
    },
    {
      "cell_type": "code",
      "metadata": {
        "colab": {
          "base_uri": "https://localhost:8080/",
          "height": 248
        },
        "id": "nbp5U4abhKf5",
        "outputId": "eece5174-1f84-4a97-dd15-c6bea8e54dd1"
      },
      "source": [
        "train_data[0][0]"
      ],
      "execution_count": 20,
      "outputs": [
        {
          "output_type": "execute_result",
          "data": {
            "application/vnd.google.colaboratory.intrinsic+json": {
              "type": "string"
            },
            "text/plain": [
              "'Shivasai Mantri Microsoft dynamics AX Technical consultant  Hyderabad, Telangana - Email me on Indeed: indeed.com/r/Shivasai-Mantri/ eb5df334d3959e42  Achieve challenging Organizational Goals by applying creative problem solving skills to benefit mutual growth and success.  Willing to relocate: Anywhere  WORK EXPERIENCE  Microsoft dynamics AX Technical consultant  Indian Terrain Fashions Limited -  October 2016 to Present  Developing the new modules and menus and customizing the existing modules in AX as per the company requirement  Microsoft dynamics AX Technical consultant  ABA Technology Services  Developing the new modules and menus and customizing the existing modules in AX as per the company requirement  EDUCATION  BE in Computer science  Sreenidhi Institute of science and technology -  Hyderabad, Telangana  August 2011 to June 2015  Narayana Junior College -  Hyderabad, Telangana  SSC  Vamshi High school -  Bodhan, Andhra Pradesh  SKILLS  asp.net, dynamics ax technical consultant, sql, x++  https://www.indeed.com/r/Shivasai-Mantri/eb5df334d3959e42?isid=rex-download&ikw=download-top&co=IN https://www.indeed.com/r/Shivasai-Mantri/eb5df334d3959e42?isid=rex-download&ikw=download-top&co=IN'"
            ]
          },
          "metadata": {
            "tags": []
          },
          "execution_count": 20
        }
      ]
    },
    {
      "cell_type": "code",
      "metadata": {
        "colab": {
          "base_uri": "https://localhost:8080/"
        },
        "id": "xqU0nj1GhPig",
        "outputId": "aaf6b984-87b1-4540-d118-7585fb233df3"
      },
      "source": [
        "doc =nlp_model(train_data[0][0])\n",
        "for ent in doc.ents:\n",
        "  print(f'{ent.label_.upper():{30}}- {ent.text}')"
      ],
      "execution_count": 25,
      "outputs": [
        {
          "output_type": "stream",
          "text": [
            "NAME                          - Shivasai Mantri\n",
            "DESIGNATION                   - Microsoft dynamics AX Technical consultant\n",
            "LOCATION                      - Hyderabad\n",
            "EMAIL ADDRESS                 - indeed.com/r/Shivasai-Mantri/ eb5df334d3959e42\n",
            "DESIGNATION                   - Microsoft dynamics AX Technical consultant\n",
            "DESIGNATION                   - Technical consultant\n",
            "DEGREE                        - BE in Computer science\n",
            "COLLEGE NAME                  - Sreenidhi Institute of science and technology\n",
            "GRADUATION YEAR               - 2015\n",
            "SKILLS                        - asp.net, dynamics ax technical consultant, sql, x++\n"
          ],
          "name": "stdout"
        }
      ]
    },
    {
      "cell_type": "code",
      "metadata": {
        "colab": {
          "base_uri": "https://localhost:8080/"
        },
        "id": "fzLdj0ishiJ3",
        "outputId": "ac62bf2b-0b50-4a75-96d7-3fb3f97db6de"
      },
      "source": [
        "!pip install PyMuPDF"
      ],
      "execution_count": 26,
      "outputs": [
        {
          "output_type": "stream",
          "text": [
            "Collecting PyMuPDF\n",
            "\u001b[?25l  Downloading https://files.pythonhosted.org/packages/ef/43/84a502a902f5045108b6264a054ea1b50b479f247879c7a66c0d190be44e/PyMuPDF-1.18.14-cp37-cp37m-manylinux2010_x86_64.whl (6.4MB)\n",
            "\u001b[K     |████████████████████████████████| 6.4MB 4.4MB/s \n",
            "\u001b[?25hInstalling collected packages: PyMuPDF\n",
            "Successfully installed PyMuPDF-1.18.14\n"
          ],
          "name": "stdout"
        }
      ]
    },
    {
      "cell_type": "code",
      "metadata": {
        "colab": {
          "base_uri": "https://localhost:8080/"
        },
        "id": "17Wp_i63ie6i",
        "outputId": "8bdf9b19-8447-4b20-d590-2d64aa7ba740"
      },
      "source": [
        "import sys, fitz\n",
        "fname ='/content/Alice Clark CV.pdf'\n",
        "doc=fitz.open(fname)\n",
        "text=\"\"\n",
        "for page in doc:\n",
        "  text =text+str(page.getText())\n",
        "\n",
        "tx =\" \".join(text.split('\\n'))\n",
        "print(tx)\n"
      ],
      "execution_count": 31,
      "outputs": [
        {
          "output_type": "stream",
          "text": [
            "Alice Clark  AI / Machine Learning    Delhi, India Email me on Indeed  •  20+ years of experience in data handling, design, and development  •  Data Warehouse: Data analysis, star/snow flake scema data modelling and design specific to  data warehousing and business intelligence  •  Database: Experience in database designing, scalability, back-up and recovery, writing and  optimizing SQL code and Stored Procedures, creating functions, views, triggers and indexes.  Cloud platform: Worked on Microsoft Azure cloud services like Document DB, SQL Azure,  Stream Analytics, Event hub, Power BI, Web Job, Web App, Power BI, Azure data lake  analytics(U-SQL)  Willing to relocate anywhere    WORK EXPERIENCE  Software Engineer  Microsoft – Bangalore, Karnataka  January 2000 to Present  1. Microsoft Rewards Live dashboards:  Description: - Microsoft rewards is loyalty program that rewards Users for browsing and shopping  online. Microsoft Rewards members can earn points when searching with Bing, browsing with  Microsoft Edge and making purchases at the Xbox Store, the Windows Store and the Microsoft  Store. Plus, user can pick up bonus points for taking daily quizzes and tours on the Microsoft  rewards website. Rewards live dashboards gives a live picture of usage world-wide and by  markets like US, Canada, Australia, new user registration count, top/bottom performing rewards  offers, orders stats and weekly trends of user activities, orders and new user registrations. the  PBI tiles gets refreshed in different frequencies starting from 5 seconds to 30 minutes.  Technology/Tools used    EDUCATION  Indian Institute of Technology – Mumbai  2001    SKILLS  Machine Learning, Natural Language Processing, and Big Data Handling    ADDITIONAL INFORMATION  Professional Skills  • Excellent analytical, problem solving, communication, knowledge transfer and interpersonal  skills with ability to interact with individuals at all the levels  • Quick learner and maintains cordial relationship with project manager and team members and  good performer both in team and independent job environments  • Positive attitude towards superiors &amp; peers  • Supervised junior developers throughout project lifecycle and provided technical assistance  \n"
          ],
          "name": "stdout"
        }
      ]
    },
    {
      "cell_type": "code",
      "metadata": {
        "colab": {
          "base_uri": "https://localhost:8080/"
        },
        "id": "CunBg0jEitrm",
        "outputId": "c63a9a89-b4e0-4b74-cb2d-f63eb5073af5"
      },
      "source": [
        "doc = nlp_model(tx)\n",
        "for ent in doc.ents:\n",
        "  print(f'{ent.label_.upper():{30}}- {ent.text}')"
      ],
      "execution_count": 33,
      "outputs": [
        {
          "output_type": "stream",
          "text": [
            "NAME                          - Alice Clark\n",
            "LOCATION                      - Delhi\n",
            "DESIGNATION                   - Software Engineer\n",
            "COMPANIES WORKED AT           - Microsoft\n",
            "COMPANIES WORKED AT           - Microsoft\n",
            "COMPANIES WORKED AT           - Microsoft\n",
            "DEGREE                        - Indian Institute of Technology – Mumbai\n",
            "GRADUATION YEAR               - 2001\n",
            "SKILLS                        - Machine Learning, Natural Language Processing, and Big Data Handling\n"
          ],
          "name": "stdout"
        }
      ]
    },
    {
      "cell_type": "code",
      "metadata": {
        "id": "w90UkpRgqyP0"
      },
      "source": [
        ""
      ],
      "execution_count": null,
      "outputs": []
    }
  ]
}